{
 "cells": [
  {
   "cell_type": "code",
   "execution_count": 49,
   "metadata": {},
   "outputs": [],
   "source": [
    "# import Libraries and load the model\n",
    "import numpy as np\n",
    "import tensorflow as tf\n",
    "from tensorflow.keras.datasets import imdb\n",
    "from tensorflow.keras.preprocessing import sequence\n",
    "from tensorflow.keras.models import load_model"
   ]
  },
  {
   "cell_type": "code",
   "execution_count": 50,
   "metadata": {},
   "outputs": [],
   "source": [
    "# Load the IMDB dataset and get word index\n",
    "word_index=imdb.get_word_index()\n",
    "reverse_word_index={value:key for key,value in word_index.items()}\n"
   ]
  },
  {
   "cell_type": "code",
   "execution_count": 51,
   "metadata": {},
   "outputs": [
    {
     "name": "stderr",
     "output_type": "stream",
     "text": [
      "WARNING:absl:Compiled the loaded model, but the compiled metrics have yet to be built. `model.compile_metrics` will be empty until you train or evaluate the model.\n"
     ]
    },
    {
     "data": {
      "text/html": [
       "<pre style=\"white-space:pre;overflow-x:auto;line-height:normal;font-family:Menlo,'DejaVu Sans Mono',consolas,'Courier New',monospace\"><span style=\"font-weight: bold\">Model: \"sequential_6\"</span>\n",
       "</pre>\n"
      ],
      "text/plain": [
       "\u001b[1mModel: \"sequential_6\"\u001b[0m\n"
      ]
     },
     "metadata": {},
     "output_type": "display_data"
    },
    {
     "data": {
      "text/html": [
       "<pre style=\"white-space:pre;overflow-x:auto;line-height:normal;font-family:Menlo,'DejaVu Sans Mono',consolas,'Courier New',monospace\">┏━━━━━━━━━━━━━━━━━━━━━━━━━━━━━━━━━┳━━━━━━━━━━━━━━━━━━━━━━━━┳━━━━━━━━━━━━━━━┓\n",
       "┃<span style=\"font-weight: bold\"> Layer (type)                    </span>┃<span style=\"font-weight: bold\"> Output Shape           </span>┃<span style=\"font-weight: bold\">       Param # </span>┃\n",
       "┡━━━━━━━━━━━━━━━━━━━━━━━━━━━━━━━━━╇━━━━━━━━━━━━━━━━━━━━━━━━╇━━━━━━━━━━━━━━━┩\n",
       "│ embedding_6 (<span style=\"color: #0087ff; text-decoration-color: #0087ff\">Embedding</span>)         │ (<span style=\"color: #00d7ff; text-decoration-color: #00d7ff\">None</span>, <span style=\"color: #00af00; text-decoration-color: #00af00\">500</span>, <span style=\"color: #00af00; text-decoration-color: #00af00\">128</span>)       │     <span style=\"color: #00af00; text-decoration-color: #00af00\">1,280,000</span> │\n",
       "├─────────────────────────────────┼────────────────────────┼───────────────┤\n",
       "│ simple_rnn_6 (<span style=\"color: #0087ff; text-decoration-color: #0087ff\">SimpleRNN</span>)        │ (<span style=\"color: #00d7ff; text-decoration-color: #00d7ff\">None</span>, <span style=\"color: #00af00; text-decoration-color: #00af00\">128</span>)            │        <span style=\"color: #00af00; text-decoration-color: #00af00\">32,896</span> │\n",
       "├─────────────────────────────────┼────────────────────────┼───────────────┤\n",
       "│ dense_6 (<span style=\"color: #0087ff; text-decoration-color: #0087ff\">Dense</span>)                 │ (<span style=\"color: #00d7ff; text-decoration-color: #00d7ff\">None</span>, <span style=\"color: #00af00; text-decoration-color: #00af00\">1</span>)              │           <span style=\"color: #00af00; text-decoration-color: #00af00\">129</span> │\n",
       "└─────────────────────────────────┴────────────────────────┴───────────────┘\n",
       "</pre>\n"
      ],
      "text/plain": [
       "┏━━━━━━━━━━━━━━━━━━━━━━━━━━━━━━━━━┳━━━━━━━━━━━━━━━━━━━━━━━━┳━━━━━━━━━━━━━━━┓\n",
       "┃\u001b[1m \u001b[0m\u001b[1mLayer (type)                   \u001b[0m\u001b[1m \u001b[0m┃\u001b[1m \u001b[0m\u001b[1mOutput Shape          \u001b[0m\u001b[1m \u001b[0m┃\u001b[1m \u001b[0m\u001b[1m      Param #\u001b[0m\u001b[1m \u001b[0m┃\n",
       "┡━━━━━━━━━━━━━━━━━━━━━━━━━━━━━━━━━╇━━━━━━━━━━━━━━━━━━━━━━━━╇━━━━━━━━━━━━━━━┩\n",
       "│ embedding_6 (\u001b[38;5;33mEmbedding\u001b[0m)         │ (\u001b[38;5;45mNone\u001b[0m, \u001b[38;5;34m500\u001b[0m, \u001b[38;5;34m128\u001b[0m)       │     \u001b[38;5;34m1,280,000\u001b[0m │\n",
       "├─────────────────────────────────┼────────────────────────┼───────────────┤\n",
       "│ simple_rnn_6 (\u001b[38;5;33mSimpleRNN\u001b[0m)        │ (\u001b[38;5;45mNone\u001b[0m, \u001b[38;5;34m128\u001b[0m)            │        \u001b[38;5;34m32,896\u001b[0m │\n",
       "├─────────────────────────────────┼────────────────────────┼───────────────┤\n",
       "│ dense_6 (\u001b[38;5;33mDense\u001b[0m)                 │ (\u001b[38;5;45mNone\u001b[0m, \u001b[38;5;34m1\u001b[0m)              │           \u001b[38;5;34m129\u001b[0m │\n",
       "└─────────────────────────────────┴────────────────────────┴───────────────┘\n"
      ]
     },
     "metadata": {},
     "output_type": "display_data"
    },
    {
     "data": {
      "text/html": [
       "<pre style=\"white-space:pre;overflow-x:auto;line-height:normal;font-family:Menlo,'DejaVu Sans Mono',consolas,'Courier New',monospace\"><span style=\"font-weight: bold\"> Total params: </span><span style=\"color: #00af00; text-decoration-color: #00af00\">1,313,027</span> (5.01 MB)\n",
       "</pre>\n"
      ],
      "text/plain": [
       "\u001b[1m Total params: \u001b[0m\u001b[38;5;34m1,313,027\u001b[0m (5.01 MB)\n"
      ]
     },
     "metadata": {},
     "output_type": "display_data"
    },
    {
     "data": {
      "text/html": [
       "<pre style=\"white-space:pre;overflow-x:auto;line-height:normal;font-family:Menlo,'DejaVu Sans Mono',consolas,'Courier New',monospace\"><span style=\"font-weight: bold\"> Trainable params: </span><span style=\"color: #00af00; text-decoration-color: #00af00\">1,313,025</span> (5.01 MB)\n",
       "</pre>\n"
      ],
      "text/plain": [
       "\u001b[1m Trainable params: \u001b[0m\u001b[38;5;34m1,313,025\u001b[0m (5.01 MB)\n"
      ]
     },
     "metadata": {},
     "output_type": "display_data"
    },
    {
     "data": {
      "text/html": [
       "<pre style=\"white-space:pre;overflow-x:auto;line-height:normal;font-family:Menlo,'DejaVu Sans Mono',consolas,'Courier New',monospace\"><span style=\"font-weight: bold\"> Non-trainable params: </span><span style=\"color: #00af00; text-decoration-color: #00af00\">0</span> (0.00 B)\n",
       "</pre>\n"
      ],
      "text/plain": [
       "\u001b[1m Non-trainable params: \u001b[0m\u001b[38;5;34m0\u001b[0m (0.00 B)\n"
      ]
     },
     "metadata": {},
     "output_type": "display_data"
    },
    {
     "data": {
      "text/html": [
       "<pre style=\"white-space:pre;overflow-x:auto;line-height:normal;font-family:Menlo,'DejaVu Sans Mono',consolas,'Courier New',monospace\"><span style=\"font-weight: bold\"> Optimizer params: </span><span style=\"color: #00af00; text-decoration-color: #00af00\">2</span> (12.00 B)\n",
       "</pre>\n"
      ],
      "text/plain": [
       "\u001b[1m Optimizer params: \u001b[0m\u001b[38;5;34m2\u001b[0m (12.00 B)\n"
      ]
     },
     "metadata": {},
     "output_type": "display_data"
    }
   ],
   "source": [
    "# Load the pre-trained model with ReLU activation \n",
    "model=load_model('simple_rnn_imdb.h5')\n",
    "model.summary()"
   ]
  },
  {
   "cell_type": "code",
   "execution_count": 52,
   "metadata": {},
   "outputs": [
    {
     "data": {
      "text/plain": [
       "[array([[-0.7896237 , -0.6509333 , -0.22753021, ...,  0.5393161 ,\n",
       "         -0.12971166, -0.8703618 ],\n",
       "        [-0.02994411, -0.10088257, -0.01888794, ...,  0.03332339,\n",
       "         -0.05381809, -0.05227311],\n",
       "        [-0.03424556, -0.05020634, -0.01203607, ...,  0.08468351,\n",
       "         -0.09718947,  0.02158574],\n",
       "        ...,\n",
       "        [-0.01713742,  0.00773138,  0.01748333, ..., -0.02234188,\n",
       "         -0.06049468, -0.03906084],\n",
       "        [ 0.01334198,  0.00360732,  0.01296981, ...,  0.04461377,\n",
       "         -0.02988074,  0.00093186],\n",
       "        [ 0.07897424,  0.07861687, -0.03116284, ..., -0.02171911,\n",
       "          0.04465739,  0.01745931]], dtype=float32),\n",
       " array([[-1.41831443e-01, -1.32160589e-01,  1.03420474e-01, ...,\n",
       "          2.19343863e-02, -2.86953915e-02,  6.46559000e-02],\n",
       "        [ 2.69871503e-02, -1.39348179e-01,  1.97869375e-01, ...,\n",
       "         -2.77316384e-02, -2.87536271e-02,  1.71798263e-02],\n",
       "        [-1.20430976e-01, -8.27058479e-02,  2.02025682e-01, ...,\n",
       "          9.47200973e-03,  4.24294621e-02,  1.90740451e-02],\n",
       "        ...,\n",
       "        [-2.84023862e-02, -5.86015219e-03, -1.44588286e-02, ...,\n",
       "          1.44403279e-01, -9.92646068e-02, -1.15748979e-01],\n",
       "        [-5.57766156e-03, -6.33222982e-02, -4.97849323e-02, ...,\n",
       "         -8.32031146e-02,  6.04894608e-02, -7.95293090e-05],\n",
       "        [ 4.24452834e-02,  7.27568567e-02,  2.21270800e-01, ...,\n",
       "          1.25470549e-01, -3.67752537e-02, -7.54063651e-02]], dtype=float32),\n",
       " array([[ 0.07071444,  0.02077281,  0.10360648, ..., -0.081678  ,\n",
       "         -0.1140323 ,  0.03077271],\n",
       "        [ 0.13317338,  0.02482652,  0.05796294, ..., -0.11622795,\n",
       "          0.01097857, -0.02767753],\n",
       "        [-0.1660086 , -0.00710161,  0.11585522, ..., -0.11814326,\n",
       "         -0.2003488 , -0.12988321],\n",
       "        ...,\n",
       "        [-0.01776679, -0.11737932,  0.01752103, ..., -0.11339632,\n",
       "         -0.07016822, -0.04580113],\n",
       "        [-0.09518364,  0.12445122, -0.00684204, ..., -0.17353946,\n",
       "         -0.01219455, -0.0380817 ],\n",
       "        [ 0.0235027 , -0.15003447,  0.02728957, ..., -0.04509968,\n",
       "         -0.02251767,  0.02151932]], dtype=float32),\n",
       " array([ 0.01500181,  0.01101996, -0.02143932, -0.00812469, -0.00389544,\n",
       "         0.0220407 , -0.00105939, -0.02782122, -0.03007467, -0.0276545 ,\n",
       "        -0.01722587, -0.04539323,  0.06913281, -0.01255487, -0.00237807,\n",
       "        -0.03341476, -0.04258476, -0.0089411 , -0.02845866, -0.00846767,\n",
       "        -0.01959795, -0.0202191 ,  0.00497559, -0.01425696, -0.00154808,\n",
       "        -0.01438817,  0.0086828 ,  0.04033029, -0.03715189, -0.01893226,\n",
       "        -0.02122889,  0.00937324, -0.03103807,  0.00553297, -0.02397577,\n",
       "        -0.02295195, -0.03343012,  0.00242693, -0.00772881, -0.01233433,\n",
       "        -0.00076427,  0.00648024, -0.00914465,  0.03020647, -0.01910409,\n",
       "        -0.00523627, -0.05864777,  0.00414495, -0.00653809, -0.01110527,\n",
       "        -0.04297467, -0.02375105, -0.01370759, -0.03267676, -0.01161741,\n",
       "        -0.01044668,  0.00804426, -0.01897015, -0.00765202,  0.00654671,\n",
       "        -0.03570543, -0.00393001,  0.00890923, -0.02229575, -0.03396657,\n",
       "         0.00816924,  0.01569915, -0.00572957, -0.01878113,  0.00422983,\n",
       "        -0.00072527, -0.01447147, -0.01513956, -0.01181103,  0.00928299,\n",
       "        -0.0294806 , -0.0160214 , -0.01971073,  0.02194016, -0.0237978 ,\n",
       "        -0.03182662, -0.00868427, -0.03755056,  0.00205751, -0.02728006,\n",
       "         0.03592815,  0.01280482,  0.02027091, -0.00998836, -0.01006281,\n",
       "         0.01570486, -0.00240432, -0.02854251, -0.03568116, -0.01915326,\n",
       "        -0.03049235, -0.03188882, -0.02689701,  0.01884075,  0.00906122,\n",
       "        -0.02933156, -0.02676091, -0.03545193, -0.01692492,  0.00336665,\n",
       "        -0.00628195, -0.02804902, -0.00686097, -0.03045241,  0.01007969,\n",
       "        -0.00551072,  0.00334293, -0.02159204,  0.0322865 ,  0.02575687,\n",
       "        -0.01655154,  0.0123708 , -0.0252826 ,  0.02905509, -0.0305209 ,\n",
       "         0.00142598,  0.04694384,  0.00013989, -0.02714815, -0.0221304 ,\n",
       "        -0.02939333, -0.05065363,  0.01421849], dtype=float32),\n",
       " array([[ 1.75897792e-01],\n",
       "        [ 2.41718173e-01],\n",
       "        [-2.03124538e-01],\n",
       "        [-2.25726068e-01],\n",
       "        [-2.88087398e-01],\n",
       "        [ 5.60954392e-01],\n",
       "        [-2.19513178e-01],\n",
       "        [-1.78019673e-01],\n",
       "        [-3.10115159e-01],\n",
       "        [-1.53631270e-01],\n",
       "        [-5.47937870e-01],\n",
       "        [-1.62879705e-01],\n",
       "        [ 3.11764758e-02],\n",
       "        [ 3.84987980e-01],\n",
       "        [-2.71081835e-01],\n",
       "        [ 7.17258304e-02],\n",
       "        [ 1.65559128e-01],\n",
       "        [-2.28540897e-01],\n",
       "        [-5.49956739e-01],\n",
       "        [-1.21427327e-02],\n",
       "        [ 1.32576123e-01],\n",
       "        [ 8.49458501e-02],\n",
       "        [-7.00859278e-02],\n",
       "        [ 3.49336565e-02],\n",
       "        [ 1.40586555e-01],\n",
       "        [-1.94345891e-01],\n",
       "        [-1.21443115e-01],\n",
       "        [ 2.48204634e-01],\n",
       "        [-1.36216611e-01],\n",
       "        [-4.58758593e-01],\n",
       "        [ 1.43592849e-01],\n",
       "        [ 1.50770620e-02],\n",
       "        [ 5.87798432e-02],\n",
       "        [ 1.46963611e-01],\n",
       "        [ 1.70636371e-01],\n",
       "        [-1.17575727e-01],\n",
       "        [ 1.63493469e-01],\n",
       "        [-2.17391953e-01],\n",
       "        [-2.05537364e-01],\n",
       "        [-2.10921571e-01],\n",
       "        [-1.46572009e-01],\n",
       "        [-1.15545295e-01],\n",
       "        [ 5.38487360e-03],\n",
       "        [ 2.14165613e-01],\n",
       "        [ 6.65595531e-02],\n",
       "        [ 5.63952066e-02],\n",
       "        [ 1.98803227e-02],\n",
       "        [ 2.18718022e-01],\n",
       "        [-8.36063400e-02],\n",
       "        [-1.09018333e-01],\n",
       "        [-1.61124051e-01],\n",
       "        [ 4.69482504e-02],\n",
       "        [-7.22620249e-01],\n",
       "        [-1.36200681e-01],\n",
       "        [ 2.40876794e-01],\n",
       "        [-2.24878505e-01],\n",
       "        [ 1.30994976e-01],\n",
       "        [ 4.02929597e-02],\n",
       "        [-1.48869902e-01],\n",
       "        [-6.57593235e-02],\n",
       "        [ 4.44320858e-01],\n",
       "        [-1.37835443e-01],\n",
       "        [-2.45828763e-01],\n",
       "        [-4.81365651e-01],\n",
       "        [ 1.75283790e-01],\n",
       "        [-7.14573413e-02],\n",
       "        [ 1.18852973e-01],\n",
       "        [-7.26816505e-02],\n",
       "        [ 1.04540266e-01],\n",
       "        [ 5.92483878e-01],\n",
       "        [-3.57598253e-02],\n",
       "        [ 1.66054860e-01],\n",
       "        [ 2.19571650e-01],\n",
       "        [ 9.41212624e-02],\n",
       "        [-3.15720230e-01],\n",
       "        [-2.52434492e-01],\n",
       "        [-9.62361842e-02],\n",
       "        [-2.15987876e-01],\n",
       "        [ 4.65148613e-02],\n",
       "        [ 1.08042127e-03],\n",
       "        [ 9.50719342e-02],\n",
       "        [ 5.89010231e-02],\n",
       "        [ 1.21526085e-01],\n",
       "        [-3.20270807e-02],\n",
       "        [-6.54767780e-03],\n",
       "        [ 1.50085807e-01],\n",
       "        [ 2.89542288e-01],\n",
       "        [ 7.55933821e-02],\n",
       "        [ 3.15829627e-02],\n",
       "        [ 1.50403753e-01],\n",
       "        [ 1.13748081e-01],\n",
       "        [-1.66280285e-01],\n",
       "        [ 1.36749461e-01],\n",
       "        [-2.81849224e-02],\n",
       "        [-3.82804032e-03],\n",
       "        [-4.17823382e-02],\n",
       "        [ 1.53688714e-01],\n",
       "        [ 1.50062621e-01],\n",
       "        [ 2.41648078e-01],\n",
       "        [-2.68011808e-01],\n",
       "        [ 1.72523424e-01],\n",
       "        [-6.47632405e-02],\n",
       "        [-2.25795314e-01],\n",
       "        [-8.68331864e-02],\n",
       "        [-1.96126193e-01],\n",
       "        [-1.43122628e-01],\n",
       "        [ 2.30810657e-01],\n",
       "        [ 5.28751053e-02],\n",
       "        [-3.05572927e-01],\n",
       "        [ 1.33327261e-01],\n",
       "        [-1.39554098e-01],\n",
       "        [-1.68170080e-01],\n",
       "        [ 2.49224771e-02],\n",
       "        [ 1.01880945e-01],\n",
       "        [-3.26280370e-02],\n",
       "        [-1.67284355e-01],\n",
       "        [ 6.12908006e-02],\n",
       "        [ 3.38500948e-03],\n",
       "        [ 2.14562222e-01],\n",
       "        [ 1.64613292e-01],\n",
       "        [-6.48193061e-01],\n",
       "        [ 1.52546600e-01],\n",
       "        [ 2.45026544e-01],\n",
       "        [ 4.21837308e-02],\n",
       "        [ 2.04293460e-01],\n",
       "        [-6.72169924e-02],\n",
       "        [-1.90080985e-01],\n",
       "        [ 1.37155795e+00]], dtype=float32),\n",
       " array([0.74147725], dtype=float32)]"
      ]
     },
     "execution_count": 52,
     "metadata": {},
     "output_type": "execute_result"
    }
   ],
   "source": [
    "# to see model config like weights \n",
    "model.get_weights()"
   ]
  },
  {
   "cell_type": "code",
   "execution_count": 53,
   "metadata": {},
   "outputs": [],
   "source": [
    "#to help with this we create 2 helper functions\n",
    "\n",
    "# 1st function to decode_reviews which we saw earliar\n",
    "def decode_review(encode_review):\n",
    "    return ' '.join([reverse_word_index.get(i-3,'?') for i in encode_review])\n",
    "\n",
    "#Function to preprocess user input\n",
    "def preprocess_text(text):\n",
    "    words=text.lower().split()\n",
    "    #encode the review given by user in index code\n",
    "    encode_review=[word_index.get(word,2)+3 for word in words]\n",
    "    #then pad it then only can give it to our model\n",
    "    padded_review=sequence.pad_sequences([encode_review],maxlen=500)\n",
    "    return padded_review\n"
   ]
  },
  {
   "cell_type": "code",
   "execution_count": 54,
   "metadata": {},
   "outputs": [],
   "source": [
    "#Prediction function\n",
    "def predict_sentiment(review):\n",
    "    preprocessed_input=preprocess_text(review)#get it in encoded format and padding done here\n",
    "\n",
    "    prediction=model.predict(preprocessed_input)\n",
    "\n",
    "    sentiment = 'Positive' if prediction[0][0]>0.5 else 'Negative'\n",
    "\n",
    "    return sentiment,prediction[0][0]"
   ]
  },
  {
   "cell_type": "code",
   "execution_count": 56,
   "metadata": {},
   "outputs": [
    {
     "name": "stdout",
     "output_type": "stream",
     "text": [
      "\u001b[1m1/1\u001b[0m \u001b[32m━━━━━━━━━━━━━━━━━━━━\u001b[0m\u001b[37m\u001b[0m \u001b[1m0s\u001b[0m 37ms/step\n",
      " Review: This movie was fantastic! The acting was great and the plot was thrilling.  \n",
      "Sentiment: Positive\n",
      "Prediction Score: 0.7128853797912598\n"
     ]
    }
   ],
   "source": [
    "# Step 4: User Input and Prediction\n",
    "# Example review for prediction\n",
    "example_review =\"This movie was fantastic! The acting was great and the plot was thrilling. \"\n",
    "sentiment ,score=predict_sentiment(example_review)\n",
    "print(f' Review: {example_review} ' )\n",
    "print(f'Sentiment: {sentiment}')\n",
    "print(f'Prediction Score: {score}' )"
   ]
  },
  {
   "cell_type": "code",
   "execution_count": null,
   "metadata": {},
   "outputs": [],
   "source": [
    "## now create a streamlit app to deploy it in main.py"
   ]
  },
  {
   "cell_type": "code",
   "execution_count": null,
   "metadata": {},
   "outputs": [],
   "source": []
  }
 ],
 "metadata": {
  "kernelspec": {
   "display_name": "Python 3",
   "language": "python",
   "name": "python3"
  },
  "language_info": {
   "codemirror_mode": {
    "name": "ipython",
    "version": 3
   },
   "file_extension": ".py",
   "mimetype": "text/x-python",
   "name": "python",
   "nbconvert_exporter": "python",
   "pygments_lexer": "ipython3",
   "version": "3.12.0"
  }
 },
 "nbformat": 4,
 "nbformat_minor": 2
}
